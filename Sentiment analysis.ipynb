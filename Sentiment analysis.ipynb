{
 "cells": [
  {
   "cell_type": "code",
   "execution_count": 10,
   "metadata": {},
   "outputs": [],
   "source": [
    "!pip install seaborn\n",
    "!pip install nltk\n",
    "!pip install pandas\n",
    "!pip install numpy\n",
    "!pip install matplotlib\n",
    "!pip install IPython\n",
    "!pip install math\n",
    "!pip install pprint\n",
    "from IPython import display\n",
    "import math\n",
    "from pprint import pprint\n",
    "import pandas as pd\n",
    "import numpy as np\n",
    "import nltk\n",
    "import matplotlib.pyplot as plt\n",
    "import seaborn as sns\n",
    "sns.set(style='darkgrid', context='talk', palette='Dark2')\n",
    "import csv\n",
    "import os"
   ]
  },
  {
   "cell_type": "code",
   "execution_count": 11,
   "metadata": {},
   "outputs": [],
   "source": [
    "df = pd.read_csv(\"news.csv\")"
   ]
  },
  {
   "cell_type": "code",
   "execution_count": 13,
   "metadata": {},
   "outputs": [
    {
     "data": {
      "text/html": [
       "<div>\n",
       "<style scoped>\n",
       "    .dataframe tbody tr th:only-of-type {\n",
       "        vertical-align: middle;\n",
       "    }\n",
       "\n",
       "    .dataframe tbody tr th {\n",
       "        vertical-align: top;\n",
       "    }\n",
       "\n",
       "    .dataframe thead th {\n",
       "        text-align: right;\n",
       "    }\n",
       "</style>\n",
       "<table border=\"1\" class=\"dataframe\">\n",
       "  <thead>\n",
       "    <tr style=\"text-align: right;\">\n",
       "      <th></th>\n",
       "      <th>Title</th>\n",
       "      <th>URL</th>\n",
       "    </tr>\n",
       "  </thead>\n",
       "  <tbody>\n",
       "    <tr>\n",
       "      <td>0</td>\n",
       "      <td>Delhi Results: The Math Behind Arvind Kejriwal...</td>\n",
       "      <td>https://news.google.com/articles/CBMiZGh0dHBzO...</td>\n",
       "    </tr>\n",
       "    <tr>\n",
       "      <td>1</td>\n",
       "      <td>Why India's Muslims Are in Grave Danger</td>\n",
       "      <td>https://news.google.com/articles/CAIiEEA6jF0-6...</td>\n",
       "    </tr>\n",
       "    <tr>\n",
       "      <td>2</td>\n",
       "      <td>India’s riot toll rises to 46 as capital remai...</td>\n",
       "      <td>https://news.google.com/articles/CAIiEO_szpYja...</td>\n",
       "    </tr>\n",
       "    <tr>\n",
       "      <td>3</td>\n",
       "      <td>India Failing To Make Progress In Its Campaign...</td>\n",
       "      <td>https://news.google.com/articles/CAIiEHI1QdksX...</td>\n",
       "    </tr>\n",
       "    <tr>\n",
       "      <td>4</td>\n",
       "      <td>In Indian Wells election, voters to decide ter...</td>\n",
       "      <td>https://news.google.com/articles/CAIiELzyp3NAm...</td>\n",
       "    </tr>\n",
       "    <tr>\n",
       "      <td>...</td>\n",
       "      <td>...</td>\n",
       "      <td>...</td>\n",
       "    </tr>\n",
       "    <tr>\n",
       "      <td>95</td>\n",
       "      <td>India election 2019: Can West Bengal's female ...</td>\n",
       "      <td>https://news.google.com/articles/CAIiEFFx0yoFH...</td>\n",
       "    </tr>\n",
       "    <tr>\n",
       "      <td>96</td>\n",
       "      <td>India is voting: who is going to win the world...</td>\n",
       "      <td>https://news.google.com/articles/CBMinQFodHRwc...</td>\n",
       "    </tr>\n",
       "    <tr>\n",
       "      <td>97</td>\n",
       "      <td>Assembly Elections 2019: Haryana records voter...</td>\n",
       "      <td>https://news.google.com/articles/CBMiMmh0dHBzO...</td>\n",
       "    </tr>\n",
       "    <tr>\n",
       "      <td>98</td>\n",
       "      <td>India election 2019: How many new airports hav...</td>\n",
       "      <td>https://news.google.com/articles/CAIiEHhvVCchS...</td>\n",
       "    </tr>\n",
       "    <tr>\n",
       "      <td>99</td>\n",
       "      <td>For India's 84 million first-time voters, elec...</td>\n",
       "      <td>https://news.google.com/articles/CBMiTGh0dHBzO...</td>\n",
       "    </tr>\n",
       "  </tbody>\n",
       "</table>\n",
       "<p>100 rows × 2 columns</p>\n",
       "</div>"
      ],
      "text/plain": [
       "                                                Title  \\\n",
       "0   Delhi Results: The Math Behind Arvind Kejriwal...   \n",
       "1             Why India's Muslims Are in Grave Danger   \n",
       "2   India’s riot toll rises to 46 as capital remai...   \n",
       "3   India Failing To Make Progress In Its Campaign...   \n",
       "4   In Indian Wells election, voters to decide ter...   \n",
       "..                                                ...   \n",
       "95  India election 2019: Can West Bengal's female ...   \n",
       "96  India is voting: who is going to win the world...   \n",
       "97  Assembly Elections 2019: Haryana records voter...   \n",
       "98  India election 2019: How many new airports hav...   \n",
       "99  For India's 84 million first-time voters, elec...   \n",
       "\n",
       "                                                  URL  \n",
       "0   https://news.google.com/articles/CBMiZGh0dHBzO...  \n",
       "1   https://news.google.com/articles/CAIiEEA6jF0-6...  \n",
       "2   https://news.google.com/articles/CAIiEO_szpYja...  \n",
       "3   https://news.google.com/articles/CAIiEHI1QdksX...  \n",
       "4   https://news.google.com/articles/CAIiELzyp3NAm...  \n",
       "..                                                ...  \n",
       "95  https://news.google.com/articles/CAIiEFFx0yoFH...  \n",
       "96  https://news.google.com/articles/CBMinQFodHRwc...  \n",
       "97  https://news.google.com/articles/CBMiMmh0dHBzO...  \n",
       "98  https://news.google.com/articles/CAIiEHhvVCchS...  \n",
       "99  https://news.google.com/articles/CBMiTGh0dHBzO...  \n",
       "\n",
       "[100 rows x 2 columns]"
      ]
     },
     "execution_count": 13,
     "metadata": {},
     "output_type": "execute_result"
    }
   ],
   "source": [
    "df"
   ]
  },
  {
   "cell_type": "code",
   "execution_count": 21,
   "metadata": {},
   "outputs": [],
   "source": [
    "titles =  df['Title'].tolist()"
   ]
  },
  {
   "cell_type": "code",
   "execution_count": 23,
   "metadata": {},
   "outputs": [
    {
     "name": "stdout",
     "output_type": "stream",
     "text": [
      "<class 'list'>\n"
     ]
    },
    {
     "data": {
      "text/plain": [
       "['Delhi Results: The Math Behind Arvind Kejriwal’s Second Sweep',\n",
       " \"Why India's Muslims Are in Grave Danger\",\n",
       " 'India’s riot toll rises to 46 as capital remains on edge',\n",
       " 'India Failing To Make Progress In Its Campaign Against Corruption',\n",
       " 'In Indian Wells election, voters to decide term limits, mayor rotation',\n",
       " 'How did British Indians become so prominent in the Conservative party?',\n",
       " 'Delhi election 2020: Voting date, constituency-wise details, exit poll, results, all you need to know',\n",
       " 'India election results 2019: Modi claims landslide victory',\n",
       " 'Swedish MPs visit ECI, meet Election Commissioners Arora, Lavasa, Chandra',\n",
       " \"India Election 2019: A Simple Guide to the World's Largest Vote\",\n",
       " 'India election 2019: Sixth round of voting for 59 seats completed',\n",
       " 'Will these bad times never end?',\n",
       " \"Poll affidavit case: SC dismisses Fadnavis' plea seeking review of 2019 verdict\",\n",
       " 'India concludes marathon seven-phase election, results on May 23',\n",
       " 'India elections 2019: All the latest updates',\n",
       " 'BJP loses fifth state election as India rocked by citizenship protests',\n",
       " 'India election 2019: Latest updates',\n",
       " 'India elections 2019: Modi on ballot as polling ends',\n",
       " 'India’s 2019 elections: What you need to know',\n",
       " 'India election 2019: 22-26 April the week that was',\n",
       " 'Indian election 2019 on the BBC: How to follow the results',\n",
       " \"India's Latest Regional Election Results: Lessons for the BJP\",\n",
       " 'India elections 2019: The taming of the great Indian election',\n",
       " \"India's most important election in decades is looming. Here's what you need to know\",\n",
       " 'India election 2019: 8-12 April the week that was',\n",
       " 'India election 2019: 29 April - 3 May the week that was',\n",
       " 'India election to start on April 11 as Modi seeks second term',\n",
       " 'India’s BJP Loses Another State Poll, Adding To Modi’s Woes',\n",
       " 'Indian Elections 2019 live results | Al Jazeera English',\n",
       " 'India election 2019: 25-29 March the week that was',\n",
       " \"India election 2019: Poll official 'killed by Maoists'\",\n",
       " 'India election 2019: 13-17 May the week that was',\n",
       " 'A really simple guide to India’s general election',\n",
       " \"Digital Politics in India's 2019 General Elections\",\n",
       " 'India election 2019: Narendra Modi votes in Ahmedabad',\n",
       " 'India election phase 5: Latest updates',\n",
       " 'India election 2019: 15-19 April the week that was',\n",
       " 'Indian election 2019: Rahul Gandhi runs against three Gandhis in Wayanad',\n",
       " \"India Gets Ready for High-Stakes Elections in the World's Biggest Democracy\",\n",
       " 'Why the 2019 Indian election feels different to 2014',\n",
       " 'India’s election results were more than a ‘Modi wave’',\n",
       " \"India election 2019: The man who has lost 24 times but won't give up\",\n",
       " 'India election 2019: The week that was',\n",
       " 'How India voted in 2019 election? Here is what India Today-Axis My India post-poll study tells us',\n",
       " \"Modi's BJP spent way more than Congress in Indian election 2019\",\n",
       " 'In state elections, BJP is a strict no-no for tribals',\n",
       " 'India election 2019: The week that was 18-22 March',\n",
       " \"Indian election 2019 is all about BJP's Modi, Congress's Gandhi\",\n",
       " \"Hardline Hindus are pushing the Indian government's agenda on British voters\",\n",
       " 'India elections: Fourth phase marred by violence in eastern state',\n",
       " \"India: what's at stake in the 2019 elections\",\n",
       " 'Polls close in second phase of Indian elections',\n",
       " 'India Lok Sabha election: 11 things you need to know',\n",
       " 'Election results 2019: Boris Johnson returns to power with big majority',\n",
       " 'UK election 2019: Labour angers British Hindus over Kashmir',\n",
       " \"India Elects 2019: The World's Largest Election, Explained\",\n",
       " \"Beware of the lions: a comedian's guide to the Indian election\",\n",
       " 'India Elections 2019: Farmers Are Hurting and Millions Are Voting',\n",
       " \"India election 2019: Echoes of Trump in Modi's border politics\",\n",
       " \"India election 2019: The mystery of India's 'missing' Muslim politicians\",\n",
       " 'What It Takes to Pull Off India’s Gargantuan Election',\n",
       " 'For India’s Youth, These Elections Are About More Than Party Politics',\n",
       " 'Indian election 2019: Why few Muslims make it to the Lok Sabha',\n",
       " \"India's election spending surges past US to record high\",\n",
       " 'India 2019: Top News India 2019',\n",
       " 'India Lok Sabha Elections 2019: Follow Our Complete Coverage',\n",
       " \"How India's youth feel about elections 2019\",\n",
       " \"India: 2019 general elections will be remembered for many 'firsts'\",\n",
       " 'Ruling BJP loses majority in Haryana, retains power in Maharashtra',\n",
       " 'Assessing India’s 2019 election results',\n",
       " 'India election 2019: Bringing power to the people',\n",
       " 'Will Modi remain the Shah of Indian politics in 2020? |India Today Insight',\n",
       " 'Election commission announces dates for India polls 2019',\n",
       " 'India election 2019: The looming water crisis politicians ignore',\n",
       " 'Jharkhand Election Results: Power shift from 2014 to 2019 in state',\n",
       " \"India election 2019: 'I will vote for someone who will guarantee proper wages'\",\n",
       " 'India election 2019: What is NOTA, none of the above',\n",
       " \"India election 2019: How sugar influences the world's biggest vote\",\n",
       " 'Indian election 2019 voter turnout best in Lakshadweep, J&K worst',\n",
       " 'Are Indian election campaigns fueled by illegal cash?',\n",
       " 'India election 2019: The debunked fake news that keeps coming back',\n",
       " 'Indian elections 2019: women candidates to watch out for',\n",
       " 'India election 2019: millions of Indian youth are underemployed and going to the polls',\n",
       " 'Lok Sabha Elections 2019: A Guide To Phase 3',\n",
       " 'The BJP supporters’ targeting of British Indian voters is divisive – and it won’t work',\n",
       " 'In Charts: India’s Election Becomes The World’s Most Expensive',\n",
       " 'How India runs the biggest election in the world',\n",
       " 'Rahul Gandhi loses his seat in Congress party landslide defeat',\n",
       " 'Can you only win votes with bad economics?',\n",
       " 'Narendra Modi claims landslide victory in Indian election – video report',\n",
       " 'How Narendra Modi Seduced India With Envy and Hate',\n",
       " \"India election 2019: PM Narendra Modi's Tamil Nadu problem\",\n",
       " 'Indian election 2019: How EVMs are secured',\n",
       " 'Voter turnout in Indian election 2019 set to break record',\n",
       " 'Lok Sabha Election 2019: Implications for Pakistan',\n",
       " \"India election 2019: Can West Bengal's female candidates win?\",\n",
       " \"India is voting: who is going to win the world's biggest election? – podcast\",\n",
       " 'Assembly Elections 2019: Haryana records voter turnout of 67.97%, Maharashtra at 55.33% till 6 pm',\n",
       " 'India election 2019: How many new airports have been built?',\n",
       " \"For India's 84 million first-time voters, election finally gives them a voice\"]"
      ]
     },
     "execution_count": 23,
     "metadata": {},
     "output_type": "execute_result"
    }
   ],
   "source": [
    "print(type(titles))\n",
    "titles"
   ]
  },
  {
   "cell_type": "markdown",
   "metadata": {},
   "source": [
    "#### NLTK’s built-in Vader Sentiment Analyzer will simply rank a piece of text as positive, negative or neutral using a lexicon of positive and negative words."
   ]
  },
  {
   "cell_type": "code",
   "execution_count": 37,
   "metadata": {},
   "outputs": [
    {
     "name": "stdout",
     "output_type": "stream",
     "text": [
      "[{'compound': 0.0,\n",
      "  'headline': 'Delhi Results: The Math Behind Arvind Kejriwal’s '\n",
      "              'Second Sweep',\n",
      "  'neg': 0.0,\n",
      "  'neu': 1.0,\n",
      "  'pos': 0.0},\n",
      " {'compound': -0.7184,\n",
      "  'headline': \"Why India's Muslims Are in Grave Danger\",\n",
      "  'neg': 0.545,\n",
      "  'neu': 0.455,\n",
      "  'pos': 0.0}]\n"
     ]
    },
    {
     "name": "stderr",
     "output_type": "stream",
     "text": [
      "[nltk_data] Downloading package vader_lexicon to\n",
      "[nltk_data]     /Users/sahil/nltk_data...\n",
      "[nltk_data]   Package vader_lexicon is already up-to-date!\n"
     ]
    }
   ],
   "source": [
    "from nltk.sentiment.vader import SentimentIntensityAnalyzer as SIA\n",
    "nltk.downloader.download('vader_lexicon')\n",
    "sia = SIA()\n",
    "results = []\n",
    "\n",
    "for headline in titles:\n",
    "    pol_score = sia.polarity_scores(headline)\n",
    "#     print(pol_score)\n",
    "    pol_score['headline'] = headline\n",
    "    results.append(pol_score)\n",
    "pprint(results[:2], width=70)"
   ]
  },
  {
   "cell_type": "markdown",
   "metadata": {},
   "source": [
    "# Generating labels for each headline."
   ]
  },
  {
   "cell_type": "code",
   "execution_count": 38,
   "metadata": {},
   "outputs": [],
   "source": [
    "sentiments = pd.DataFrame.from_records(results)"
   ]
  },
  {
   "cell_type": "code",
   "execution_count": 41,
   "metadata": {},
   "outputs": [
    {
     "data": {
      "text/html": [
       "<div>\n",
       "<style scoped>\n",
       "    .dataframe tbody tr th:only-of-type {\n",
       "        vertical-align: middle;\n",
       "    }\n",
       "\n",
       "    .dataframe tbody tr th {\n",
       "        vertical-align: top;\n",
       "    }\n",
       "\n",
       "    .dataframe thead th {\n",
       "        text-align: right;\n",
       "    }\n",
       "</style>\n",
       "<table border=\"1\" class=\"dataframe\">\n",
       "  <thead>\n",
       "    <tr style=\"text-align: right;\">\n",
       "      <th></th>\n",
       "      <th>neg</th>\n",
       "      <th>neu</th>\n",
       "      <th>pos</th>\n",
       "      <th>compound</th>\n",
       "      <th>headline</th>\n",
       "    </tr>\n",
       "  </thead>\n",
       "  <tbody>\n",
       "    <tr>\n",
       "      <td>0</td>\n",
       "      <td>0.000</td>\n",
       "      <td>1.000</td>\n",
       "      <td>0.000</td>\n",
       "      <td>0.0000</td>\n",
       "      <td>Delhi Results: The Math Behind Arvind Kejriwal...</td>\n",
       "    </tr>\n",
       "    <tr>\n",
       "      <td>1</td>\n",
       "      <td>0.545</td>\n",
       "      <td>0.455</td>\n",
       "      <td>0.000</td>\n",
       "      <td>-0.7184</td>\n",
       "      <td>Why India's Muslims Are in Grave Danger</td>\n",
       "    </tr>\n",
       "    <tr>\n",
       "      <td>2</td>\n",
       "      <td>0.265</td>\n",
       "      <td>0.735</td>\n",
       "      <td>0.000</td>\n",
       "      <td>-0.5574</td>\n",
       "      <td>India’s riot toll rises to 46 as capital remai...</td>\n",
       "    </tr>\n",
       "    <tr>\n",
       "      <td>3</td>\n",
       "      <td>0.234</td>\n",
       "      <td>0.567</td>\n",
       "      <td>0.199</td>\n",
       "      <td>-0.1280</td>\n",
       "      <td>India Failing To Make Progress In Its Campaign...</td>\n",
       "    </tr>\n",
       "    <tr>\n",
       "      <td>4</td>\n",
       "      <td>0.000</td>\n",
       "      <td>0.833</td>\n",
       "      <td>0.167</td>\n",
       "      <td>0.2500</td>\n",
       "      <td>In Indian Wells election, voters to decide ter...</td>\n",
       "    </tr>\n",
       "  </tbody>\n",
       "</table>\n",
       "</div>"
      ],
      "text/plain": [
       "     neg    neu    pos  compound  \\\n",
       "0  0.000  1.000  0.000    0.0000   \n",
       "1  0.545  0.455  0.000   -0.7184   \n",
       "2  0.265  0.735  0.000   -0.5574   \n",
       "3  0.234  0.567  0.199   -0.1280   \n",
       "4  0.000  0.833  0.167    0.2500   \n",
       "\n",
       "                                            headline  \n",
       "0  Delhi Results: The Math Behind Arvind Kejriwal...  \n",
       "1            Why India's Muslims Are in Grave Danger  \n",
       "2  India’s riot toll rises to 46 as capital remai...  \n",
       "3  India Failing To Make Progress In Its Campaign...  \n",
       "4  In Indian Wells election, voters to decide ter...  "
      ]
     },
     "execution_count": 41,
     "metadata": {},
     "output_type": "execute_result"
    }
   ],
   "source": [
    "sentiments.head()"
   ]
  },
  {
   "cell_type": "code",
   "execution_count": 43,
   "metadata": {},
   "outputs": [
    {
     "data": {
      "text/html": [
       "<div>\n",
       "<style scoped>\n",
       "    .dataframe tbody tr th:only-of-type {\n",
       "        vertical-align: middle;\n",
       "    }\n",
       "\n",
       "    .dataframe tbody tr th {\n",
       "        vertical-align: top;\n",
       "    }\n",
       "\n",
       "    .dataframe thead th {\n",
       "        text-align: right;\n",
       "    }\n",
       "</style>\n",
       "<table border=\"1\" class=\"dataframe\">\n",
       "  <thead>\n",
       "    <tr style=\"text-align: right;\">\n",
       "      <th></th>\n",
       "      <th>neg</th>\n",
       "      <th>neu</th>\n",
       "      <th>pos</th>\n",
       "      <th>compound</th>\n",
       "      <th>headline</th>\n",
       "      <th>label</th>\n",
       "    </tr>\n",
       "  </thead>\n",
       "  <tbody>\n",
       "    <tr>\n",
       "      <td>0</td>\n",
       "      <td>0.000</td>\n",
       "      <td>1.000</td>\n",
       "      <td>0.000</td>\n",
       "      <td>0.0000</td>\n",
       "      <td>Delhi Results: The Math Behind Arvind Kejriwal...</td>\n",
       "      <td>0</td>\n",
       "    </tr>\n",
       "    <tr>\n",
       "      <td>1</td>\n",
       "      <td>0.545</td>\n",
       "      <td>0.455</td>\n",
       "      <td>0.000</td>\n",
       "      <td>-0.7184</td>\n",
       "      <td>Why India's Muslims Are in Grave Danger</td>\n",
       "      <td>-1</td>\n",
       "    </tr>\n",
       "    <tr>\n",
       "      <td>2</td>\n",
       "      <td>0.265</td>\n",
       "      <td>0.735</td>\n",
       "      <td>0.000</td>\n",
       "      <td>-0.5574</td>\n",
       "      <td>India’s riot toll rises to 46 as capital remai...</td>\n",
       "      <td>-1</td>\n",
       "    </tr>\n",
       "    <tr>\n",
       "      <td>3</td>\n",
       "      <td>0.234</td>\n",
       "      <td>0.567</td>\n",
       "      <td>0.199</td>\n",
       "      <td>-0.1280</td>\n",
       "      <td>India Failing To Make Progress In Its Campaign...</td>\n",
       "      <td>0</td>\n",
       "    </tr>\n",
       "    <tr>\n",
       "      <td>4</td>\n",
       "      <td>0.000</td>\n",
       "      <td>0.833</td>\n",
       "      <td>0.167</td>\n",
       "      <td>0.2500</td>\n",
       "      <td>In Indian Wells election, voters to decide ter...</td>\n",
       "      <td>1</td>\n",
       "    </tr>\n",
       "  </tbody>\n",
       "</table>\n",
       "</div>"
      ],
      "text/plain": [
       "     neg    neu    pos  compound  \\\n",
       "0  0.000  1.000  0.000    0.0000   \n",
       "1  0.545  0.455  0.000   -0.7184   \n",
       "2  0.265  0.735  0.000   -0.5574   \n",
       "3  0.234  0.567  0.199   -0.1280   \n",
       "4  0.000  0.833  0.167    0.2500   \n",
       "\n",
       "                                            headline  label  \n",
       "0  Delhi Results: The Math Behind Arvind Kejriwal...      0  \n",
       "1            Why India's Muslims Are in Grave Danger     -1  \n",
       "2  India’s riot toll rises to 46 as capital remai...     -1  \n",
       "3  India Failing To Make Progress In Its Campaign...      0  \n",
       "4  In Indian Wells election, voters to decide ter...      1  "
      ]
     },
     "execution_count": 43,
     "metadata": {},
     "output_type": "execute_result"
    }
   ],
   "source": [
    "sentiments['label'] = 0\n",
    "sentiments.loc[sentiments['compound'] > 0.2, 'label'] = 1\n",
    "sentiments.loc[sentiments['compound'] < -0.2, 'label'] = -1\n",
    "sentiments.head()"
   ]
  },
  {
   "cell_type": "code",
   "execution_count": 44,
   "metadata": {},
   "outputs": [],
   "source": [
    "df2 = sentiments[['headline', 'label']]\n",
    "df2.to_csv('new_headlines_labels.csv', mode='a', encoding='utf-8', index=False)"
   ]
  },
  {
   "cell_type": "code",
   "execution_count": 45,
   "metadata": {},
   "outputs": [
    {
     "data": {
      "text/html": [
       "<div>\n",
       "<style scoped>\n",
       "    .dataframe tbody tr th:only-of-type {\n",
       "        vertical-align: middle;\n",
       "    }\n",
       "\n",
       "    .dataframe tbody tr th {\n",
       "        vertical-align: top;\n",
       "    }\n",
       "\n",
       "    .dataframe thead th {\n",
       "        text-align: right;\n",
       "    }\n",
       "</style>\n",
       "<table border=\"1\" class=\"dataframe\">\n",
       "  <thead>\n",
       "    <tr style=\"text-align: right;\">\n",
       "      <th></th>\n",
       "      <th>headline</th>\n",
       "      <th>label</th>\n",
       "    </tr>\n",
       "  </thead>\n",
       "  <tbody>\n",
       "    <tr>\n",
       "      <td>0</td>\n",
       "      <td>Delhi Results: The Math Behind Arvind Kejriwal...</td>\n",
       "      <td>0</td>\n",
       "    </tr>\n",
       "    <tr>\n",
       "      <td>1</td>\n",
       "      <td>Why India's Muslims Are in Grave Danger</td>\n",
       "      <td>-1</td>\n",
       "    </tr>\n",
       "    <tr>\n",
       "      <td>2</td>\n",
       "      <td>India’s riot toll rises to 46 as capital remai...</td>\n",
       "      <td>-1</td>\n",
       "    </tr>\n",
       "    <tr>\n",
       "      <td>3</td>\n",
       "      <td>India Failing To Make Progress In Its Campaign...</td>\n",
       "      <td>0</td>\n",
       "    </tr>\n",
       "    <tr>\n",
       "      <td>4</td>\n",
       "      <td>In Indian Wells election, voters to decide ter...</td>\n",
       "      <td>1</td>\n",
       "    </tr>\n",
       "    <tr>\n",
       "      <td>...</td>\n",
       "      <td>...</td>\n",
       "      <td>...</td>\n",
       "    </tr>\n",
       "    <tr>\n",
       "      <td>95</td>\n",
       "      <td>India election 2019: Can West Bengal's female ...</td>\n",
       "      <td>1</td>\n",
       "    </tr>\n",
       "    <tr>\n",
       "      <td>96</td>\n",
       "      <td>India is voting: who is going to win the world...</td>\n",
       "      <td>1</td>\n",
       "    </tr>\n",
       "    <tr>\n",
       "      <td>97</td>\n",
       "      <td>Assembly Elections 2019: Haryana records voter...</td>\n",
       "      <td>0</td>\n",
       "    </tr>\n",
       "    <tr>\n",
       "      <td>98</td>\n",
       "      <td>India election 2019: How many new airports hav...</td>\n",
       "      <td>0</td>\n",
       "    </tr>\n",
       "    <tr>\n",
       "      <td>99</td>\n",
       "      <td>For India's 84 million first-time voters, elec...</td>\n",
       "      <td>0</td>\n",
       "    </tr>\n",
       "  </tbody>\n",
       "</table>\n",
       "<p>100 rows × 2 columns</p>\n",
       "</div>"
      ],
      "text/plain": [
       "                                             headline  label\n",
       "0   Delhi Results: The Math Behind Arvind Kejriwal...      0\n",
       "1             Why India's Muslims Are in Grave Danger     -1\n",
       "2   India’s riot toll rises to 46 as capital remai...     -1\n",
       "3   India Failing To Make Progress In Its Campaign...      0\n",
       "4   In Indian Wells election, voters to decide ter...      1\n",
       "..                                                ...    ...\n",
       "95  India election 2019: Can West Bengal's female ...      1\n",
       "96  India is voting: who is going to win the world...      1\n",
       "97  Assembly Elections 2019: Haryana records voter...      0\n",
       "98  India election 2019: How many new airports hav...      0\n",
       "99  For India's 84 million first-time voters, elec...      0\n",
       "\n",
       "[100 rows x 2 columns]"
      ]
     },
     "execution_count": 45,
     "metadata": {},
     "output_type": "execute_result"
    }
   ],
   "source": [
    "df2"
   ]
  },
  {
   "cell_type": "code",
   "execution_count": 47,
   "metadata": {},
   "outputs": [
    {
     "name": "stdout",
     "output_type": "stream",
     "text": [
      "Positive headlines:\n",
      "\n",
      "['In Indian Wells election, voters to decide term limits, mayor rotation',\n",
      " 'How did British Indians become so prominent in the Conservative party?',\n",
      " 'India elections 2019: The taming of the great Indian election',\n",
      " \"India Gets Ready for High-Stakes Elections in the World's Biggest Democracy\",\n",
      " 'For India’s Youth, These Elections Are About More Than Party Politics']\n",
      "\n",
      "Negative headlines:\n",
      "\n",
      "[\"Why India's Muslims Are in Grave Danger\",\n",
      " 'India’s riot toll rises to 46 as capital remains on edge',\n",
      " 'Will these bad times never end?',\n",
      " 'BJP loses fifth state election as India rocked by citizenship protests',\n",
      " 'India’s BJP Loses Another State Poll, Adding To Modi’s Woes']\n"
     ]
    }
   ],
   "source": [
    "print(\"Positive headlines:\\n\")\n",
    "pprint(list(df2[df2['label'] == 1].headline)[:5], width=200)\n",
    "\n",
    "print(\"\\nNegative headlines:\\n\")\n",
    "pprint(list(df2[df2['label'] == -1].headline)[:5], width=200)"
   ]
  },
  {
   "cell_type": "code",
   "execution_count": 48,
   "metadata": {},
   "outputs": [
    {
     "name": "stdout",
     "output_type": "stream",
     "text": [
      " 0    74\n",
      "-1    16\n",
      " 1    10\n",
      "Name: label, dtype: int64\n",
      " 0    74.0\n",
      "-1    16.0\n",
      " 1    10.0\n",
      "Name: label, dtype: float64\n"
     ]
    }
   ],
   "source": [
    "print(df2.label.value_counts())\n",
    "\n",
    "print(df2.label.value_counts(normalize=True) * 100)"
   ]
  },
  {
   "cell_type": "code",
   "execution_count": 49,
   "metadata": {},
   "outputs": [
    {
     "data": {
      "image/png": "[encoded data removed]",
      "text/plain": [
       "<Figure size 576x576 with 1 Axes>"
      ]
     },
     "metadata": {},
     "output_type": "display_data"
    }
   ],
   "source": [
    "fig, ax = plt.subplots(figsize=(8, 8))\n",
    "\n",
    "counts = df2.label.value_counts(normalize=True) * 100\n",
    "\n",
    "sns.barplot(x=counts.index, y=counts, ax=ax)\n",
    "\n",
    "ax.set_xticklabels(['Negative', 'Neutral', 'Positive'])\n",
    "ax.set_ylabel(\"Percentage\")\n",
    "\n",
    "plt.show()"
   ]
  },
  {
   "cell_type": "markdown",
   "metadata": {},
   "source": [
    "## Tokenizers and Stopwords "
   ]
  },
  {
   "cell_type": "code",
   "execution_count": 51,
   "metadata": {},
   "outputs": [
    {
     "name": "stderr",
     "output_type": "stream",
     "text": [
      "[nltk_data] Downloading package punkt to /Users/sahil/nltk_data...\n",
      "[nltk_data]   Unzipping tokenizers/punkt.zip.\n"
     ]
    },
    {
     "name": "stdout",
     "output_type": "stream",
     "text": [
      "['This', 'is', 'an', 'example', 'sentence', '!', 'However', ',', 'it', 'is', \"n't\", 'a', 'very', 'informative', 'one']\n"
     ]
    }
   ],
   "source": [
    "from nltk.tokenize import word_tokenize, RegexpTokenizer\n",
    "nltk.downloader.download('punkt')\n",
    "\n",
    "example = \"This is an example sentence! However, it isn't a very informative one\"\n",
    "\n",
    "print(word_tokenize(example, language='english'))\n"
   ]
  },
  {
   "cell_type": "code",
   "execution_count": 52,
   "metadata": {},
   "outputs": [
    {
     "data": {
      "text/plain": [
       "['This',\n",
       " 'is',\n",
       " 'an',\n",
       " 'example',\n",
       " 'sentence',\n",
       " 'However',\n",
       " 'it',\n",
       " 'isn',\n",
       " 't',\n",
       " 'a',\n",
       " 'very',\n",
       " 'informative',\n",
       " 'one']"
      ]
     },
     "execution_count": 52,
     "metadata": {},
     "output_type": "execute_result"
    }
   ],
   "source": [
    "tokenizer = RegexpTokenizer(r'\\w+')\n",
    "tokenizer.tokenize(example)"
   ]
  },
  {
   "cell_type": "code",
   "execution_count": 54,
   "metadata": {},
   "outputs": [
    {
     "name": "stdout",
     "output_type": "stream",
     "text": [
      "['i', 'me', 'my', 'myself', 'we', 'our', 'ours', 'ourselves', 'you', \"you're\", \"you've\", \"you'll\", \"you'd\", 'your', 'yours', 'yourself', 'yourselves', 'he', 'him', 'his']\n"
     ]
    },
    {
     "name": "stderr",
     "output_type": "stream",
     "text": [
      "[nltk_data] Downloading package stopwords to /Users/sahil/nltk_data...\n",
      "[nltk_data]   Unzipping corpora/stopwords.zip.\n"
     ]
    }
   ],
   "source": [
    "from nltk.corpus import stopwords\n",
    "nltk.downloader.download('stopwords')\n",
    "stop_words = stopwords.words('english')\n",
    "print(stop_words[:20])"
   ]
  },
  {
   "cell_type": "markdown",
   "metadata": {},
   "source": [
    "### Word Distributions "
   ]
  },
  {
   "cell_type": "code",
   "execution_count": 55,
   "metadata": {},
   "outputs": [],
   "source": [
    "def process_text(headlines):\n",
    "    tokens = []\n",
    "    for line in headlines:\n",
    "        toks = tokenizer.tokenize(line)\n",
    "        toks = [t.lower() for t in toks if t.lower() not in stop_words]\n",
    "        tokens.extend(toks)\n",
    "    \n",
    "    return tokens\n"
   ]
  },
  {
   "cell_type": "code",
   "execution_count": 62,
   "metadata": {},
   "outputs": [],
   "source": [
    "# tokens = process_text(titles)"
   ]
  },
  {
   "cell_type": "code",
   "execution_count": 64,
   "metadata": {},
   "outputs": [
    {
     "data": {
      "text/plain": [
       "[('india', 8),\n",
       " ('election', 6),\n",
       " ('2019', 6),\n",
       " ('indian', 3),\n",
       " ('elections', 3),\n",
       " ('party', 2),\n",
       " ('world', 2),\n",
       " ('biggest', 2),\n",
       " ('win', 2),\n",
       " ('wells', 1),\n",
       " ('voters', 1),\n",
       " ('decide', 1),\n",
       " ('term', 1),\n",
       " ('limits', 1),\n",
       " ('mayor', 1),\n",
       " ('rotation', 1),\n",
       " ('british', 1),\n",
       " ('indians', 1),\n",
       " ('become', 1),\n",
       " ('prominent', 1)]"
      ]
     },
     "execution_count": 64,
     "metadata": {},
     "output_type": "execute_result"
    }
   ],
   "source": [
    "pos_lines = list(df2[df2.label == 1].headline)\n",
    "\n",
    "pos_tokens = process_text(pos_lines)\n",
    "pos_freq = nltk.FreqDist(pos_tokens)\n",
    "\n",
    "pos_freq.most_common(20)"
   ]
  },
  {
   "cell_type": "code",
   "execution_count": 65,
   "metadata": {},
   "outputs": [
    {
     "data": {
      "image/png": "[encoded data removed]",
      "text/plain": [
       "<Figure size 720x360 with 1 Axes>"
      ]
     },
     "metadata": {},
     "output_type": "display_data"
    }
   ],
   "source": [
    "y_val = [x[1] for x in pos_freq.most_common()]\n",
    "\n",
    "fig = plt.figure(figsize=(10,5))\n",
    "plt.plot(y_val)\n",
    "\n",
    "plt.xlabel(\"Words\")\n",
    "plt.ylabel(\"Frequency\")\n",
    "plt.title(\"Word Frequency Distribution (Positive)\")\n",
    "plt.show()"
   ]
  },
  {
   "cell_type": "code",
   "execution_count": 66,
   "metadata": {},
   "outputs": [
    {
     "data": {
      "image/png": "[encoded data removed]",
      "text/plain": [
       "<Figure size 720x360 with 1 Axes>"
      ]
     },
     "metadata": {},
     "output_type": "display_data"
    }
   ],
   "source": [
    "y_final = []\n",
    "for i, k, z, t in zip(y_val[0::4], y_val[1::4], y_val[2::4], y_val[3::4]):\n",
    "    y_final.append(math.log(i + k + z + t))\n",
    "\n",
    "x_val = [math.log(i + 1) for i in range(len(y_final))]\n",
    "\n",
    "fig = plt.figure(figsize=(10,5))\n",
    "\n",
    "plt.xlabel(\"Words (Log)\")\n",
    "plt.ylabel(\"Frequency (Log)\")\n",
    "plt.title(\"Word Frequency Distribution (Positive)\")\n",
    "plt.plot(x_val, y_final)\n",
    "plt.show()"
   ]
  },
  {
   "cell_type": "code",
   "execution_count": 67,
   "metadata": {},
   "outputs": [
    {
     "data": {
      "text/plain": [
       "[('india', 11),\n",
       " ('election', 7),\n",
       " ('2019', 6),\n",
       " ('loses', 4),\n",
       " ('bjp', 3),\n",
       " ('state', 3),\n",
       " ('modi', 3),\n",
       " ('poll', 2),\n",
       " ('elections', 2),\n",
       " ('narendra', 2),\n",
       " ('muslims', 1),\n",
       " ('grave', 1),\n",
       " ('danger', 1),\n",
       " ('riot', 1),\n",
       " ('toll', 1),\n",
       " ('rises', 1),\n",
       " ('46', 1),\n",
       " ('capital', 1),\n",
       " ('remains', 1),\n",
       " ('edge', 1)]"
      ]
     },
     "execution_count": 67,
     "metadata": {},
     "output_type": "execute_result"
    }
   ],
   "source": [
    "neg_lines = list(df2[df2.label == -1].headline)\n",
    "\n",
    "neg_tokens = process_text(neg_lines)\n",
    "neg_freq = nltk.FreqDist(neg_tokens)\n",
    "\n",
    "neg_freq.most_common(20)"
   ]
  },
  {
   "cell_type": "code",
   "execution_count": 68,
   "metadata": {},
   "outputs": [
    {
     "data": {
      "image/png": "[encoded data removed]",
      "text/plain": [
       "<Figure size 720x360 with 1 Axes>"
      ]
     },
     "metadata": {},
     "output_type": "display_data"
    }
   ],
   "source": [
    "y_val = [x[1] for x in neg_freq.most_common()]\n",
    "\n",
    "fig = plt.figure(figsize=(10,5))\n",
    "plt.plot(y_val)\n",
    "\n",
    "plt.xlabel(\"Words\")\n",
    "plt.ylabel(\"Frequency\")\n",
    "plt.title(\"Word Frequency Distribution (Negative)\")\n",
    "plt.show()"
   ]
  },
  {
   "cell_type": "code",
   "execution_count": 69,
   "metadata": {},
   "outputs": [
    {
     "data": {
      "image/png": "[encoded data removed]",
      "text/plain": [
       "<Figure size 720x360 with 1 Axes>"
      ]
     },
     "metadata": {},
     "output_type": "display_data"
    }
   ],
   "source": [
    "y_final = []\n",
    "for i, k, z in zip(y_val[0::3], y_val[1::3], y_val[2::3]):\n",
    "    if i + k + z == 0:\n",
    "        break\n",
    "    y_final.append(math.log(i + k + z))\n",
    "\n",
    "x_val = [math.log(i+1) for i in range(len(y_final))]\n",
    "\n",
    "fig = plt.figure(figsize=(10,5))\n",
    "\n",
    "plt.xlabel(\"Words (Log)\")\n",
    "plt.ylabel(\"Frequency (Log)\")\n",
    "plt.title(\"Word Frequency Distribution (Negative)\")\n",
    "plt.plot(x_val, y_final)\n",
    "plt.show()"
   ]
  }
 ],
 "metadata": {
  "kernelspec": {
   "display_name": "Python 3",
   "language": "python",
   "name": "python3"
  },
  "language_info": {
   "codemirror_mode": {
    "name": "ipython",
    "version": 3
   },
   "file_extension": ".py",
   "mimetype": "text/x-python",
   "name": "python",
   "nbconvert_exporter": "python",
   "pygments_lexer": "ipython3",
   "version": "3.6.9"
  }
 },
 "nbformat": 4,
 "nbformat_minor": 2
}

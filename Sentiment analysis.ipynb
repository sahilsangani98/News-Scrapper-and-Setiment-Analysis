{
 "cells": [
  {
   "cell_type": "code",
   "execution_count": 8,
   "metadata": {},
   "outputs": [
    {
     "name": "stdout",
     "output_type": "stream",
     "text": [
      "Requirement already satisfied: seaborn in /Users/sahil/anaconda3/lib/python3.7/site-packages (0.9.0)\n",
      "Requirement already satisfied: pandas>=0.15.2 in /Users/sahil/anaconda3/lib/python3.7/site-packages (from seaborn) (0.23.4)\n",
      "Requirement already satisfied: numpy>=1.9.3 in /Users/sahil/anaconda3/lib/python3.7/site-packages (from seaborn) (1.15.4)\n",
      "Requirement already satisfied: scipy>=0.14.0 in /Users/sahil/anaconda3/lib/python3.7/site-packages (from seaborn) (1.1.0)\n",
      "Requirement already satisfied: matplotlib>=1.4.3 in /Users/sahil/anaconda3/lib/python3.7/site-packages (from seaborn) (3.0.2)\n",
      "Requirement already satisfied: python-dateutil>=2.5.0 in /Users/sahil/anaconda3/lib/python3.7/site-packages (from pandas>=0.15.2->seaborn) (2.7.5)\n",
      "Requirement already satisfied: pytz>=2011k in /Users/sahil/anaconda3/lib/python3.7/site-packages (from pandas>=0.15.2->seaborn) (2018.7)\n",
      "Requirement already satisfied: cycler>=0.10 in /Users/sahil/anaconda3/lib/python3.7/site-packages (from matplotlib>=1.4.3->seaborn) (0.10.0)\n",
      "Requirement already satisfied: kiwisolver>=1.0.1 in /Users/sahil/anaconda3/lib/python3.7/site-packages (from matplotlib>=1.4.3->seaborn) (1.0.1)\n",
      "Requirement already satisfied: pyparsing!=2.0.4,!=2.1.2,!=2.1.6,>=2.0.1 in /Users/sahil/anaconda3/lib/python3.7/site-packages (from matplotlib>=1.4.3->seaborn) (2.3.0)\n",
      "Requirement already satisfied: six>=1.5 in /Users/sahil/anaconda3/lib/python3.7/site-packages (from python-dateutil>=2.5.0->pandas>=0.15.2->seaborn) (1.12.0)\n",
      "Requirement already satisfied: setuptools in /Users/sahil/anaconda3/lib/python3.7/site-packages (from kiwisolver>=1.0.1->matplotlib>=1.4.3->seaborn) (40.6.3)\n",
      "\u001b[33mWARNING: You are using pip version 19.3.1; however, version 20.0.2 is available.\n",
      "You should consider upgrading via the 'pip install --upgrade pip' command.\u001b[0m\n",
      "Requirement already satisfied: nltk in /Users/sahil/anaconda3/lib/python3.7/site-packages (3.4)\n",
      "Requirement already satisfied: six in /Users/sahil/anaconda3/lib/python3.7/site-packages (from nltk) (1.12.0)\n",
      "Requirement already satisfied: singledispatch in /Users/sahil/anaconda3/lib/python3.7/site-packages (from nltk) (3.4.0.3)\n",
      "\u001b[33mWARNING: You are using pip version 19.3.1; however, version 20.0.2 is available.\n",
      "You should consider upgrading via the 'pip install --upgrade pip' command.\u001b[0m\n",
      "Requirement already satisfied: pandas in /Users/sahil/anaconda3/lib/python3.7/site-packages (0.23.4)\n",
      "Requirement already satisfied: python-dateutil>=2.5.0 in /Users/sahil/anaconda3/lib/python3.7/site-packages (from pandas) (2.7.5)\n",
      "Requirement already satisfied: pytz>=2011k in /Users/sahil/anaconda3/lib/python3.7/site-packages (from pandas) (2018.7)\n",
      "Requirement already satisfied: numpy>=1.9.0 in /Users/sahil/anaconda3/lib/python3.7/site-packages (from pandas) (1.15.4)\n",
      "Requirement already satisfied: six>=1.5 in /Users/sahil/anaconda3/lib/python3.7/site-packages (from python-dateutil>=2.5.0->pandas) (1.12.0)\n",
      "\u001b[33mWARNING: You are using pip version 19.3.1; however, version 20.0.2 is available.\n",
      "You should consider upgrading via the 'pip install --upgrade pip' command.\u001b[0m\n",
      "Requirement already satisfied: numpy in /Users/sahil/anaconda3/lib/python3.7/site-packages (1.15.4)\n",
      "\u001b[33mWARNING: You are using pip version 19.3.1; however, version 20.0.2 is available.\n",
      "You should consider upgrading via the 'pip install --upgrade pip' command.\u001b[0m\n",
      "Requirement already satisfied: matplotlib in /Users/sahil/anaconda3/lib/python3.7/site-packages (3.0.2)\n",
      "Requirement already satisfied: numpy>=1.10.0 in /Users/sahil/anaconda3/lib/python3.7/site-packages (from matplotlib) (1.15.4)\n",
      "Requirement already satisfied: cycler>=0.10 in /Users/sahil/anaconda3/lib/python3.7/site-packages (from matplotlib) (0.10.0)\n",
      "Requirement already satisfied: kiwisolver>=1.0.1 in /Users/sahil/anaconda3/lib/python3.7/site-packages (from matplotlib) (1.0.1)\n",
      "Requirement already satisfied: pyparsing!=2.0.4,!=2.1.2,!=2.1.6,>=2.0.1 in /Users/sahil/anaconda3/lib/python3.7/site-packages (from matplotlib) (2.3.0)\n",
      "Requirement already satisfied: python-dateutil>=2.1 in /Users/sahil/anaconda3/lib/python3.7/site-packages (from matplotlib) (2.7.5)\n",
      "Requirement already satisfied: six in /Users/sahil/anaconda3/lib/python3.7/site-packages (from cycler>=0.10->matplotlib) (1.12.0)\n",
      "Requirement already satisfied: setuptools in /Users/sahil/anaconda3/lib/python3.7/site-packages (from kiwisolver>=1.0.1->matplotlib) (40.6.3)\n",
      "\u001b[33mWARNING: You are using pip version 19.3.1; however, version 20.0.2 is available.\n",
      "You should consider upgrading via the 'pip install --upgrade pip' command.\u001b[0m\n",
      "Requirement already satisfied: IPython in /Users/sahil/anaconda3/lib/python3.7/site-packages (7.2.0)\n",
      "Requirement already satisfied: prompt-toolkit<2.1.0,>=2.0.0 in /Users/sahil/anaconda3/lib/python3.7/site-packages (from IPython) (2.0.7)\n",
      "Requirement already satisfied: jedi>=0.10 in /Users/sahil/anaconda3/lib/python3.7/site-packages (from IPython) (0.13.2)\n",
      "Requirement already satisfied: decorator in /Users/sahil/anaconda3/lib/python3.7/site-packages (from IPython) (4.3.0)\n",
      "Requirement already satisfied: appnope; sys_platform == \"darwin\" in /Users/sahil/anaconda3/lib/python3.7/site-packages (from IPython) (0.1.0)\n",
      "Requirement already satisfied: pexpect; sys_platform != \"win32\" in /Users/sahil/anaconda3/lib/python3.7/site-packages (from IPython) (4.6.0)\n",
      "Requirement already satisfied: backcall in /Users/sahil/anaconda3/lib/python3.7/site-packages (from IPython) (0.1.0)\n",
      "Requirement already satisfied: setuptools>=18.5 in /Users/sahil/anaconda3/lib/python3.7/site-packages (from IPython) (40.6.3)\n",
      "Requirement already satisfied: pickleshare in /Users/sahil/anaconda3/lib/python3.7/site-packages (from IPython) (0.7.5)\n",
      "Requirement already satisfied: traitlets>=4.2 in /Users/sahil/anaconda3/lib/python3.7/site-packages (from IPython) (4.3.2)\n",
      "Requirement already satisfied: pygments in /Users/sahil/anaconda3/lib/python3.7/site-packages (from IPython) (2.3.1)\n",
      "Requirement already satisfied: six>=1.9.0 in /Users/sahil/anaconda3/lib/python3.7/site-packages (from prompt-toolkit<2.1.0,>=2.0.0->IPython) (1.12.0)\n",
      "Requirement already satisfied: wcwidth in /Users/sahil/anaconda3/lib/python3.7/site-packages (from prompt-toolkit<2.1.0,>=2.0.0->IPython) (0.1.7)\n",
      "Requirement already satisfied: parso>=0.3.0 in /Users/sahil/anaconda3/lib/python3.7/site-packages (from jedi>=0.10->IPython) (0.3.1)\n",
      "Requirement already satisfied: ptyprocess>=0.5 in /Users/sahil/anaconda3/lib/python3.7/site-packages (from pexpect; sys_platform != \"win32\"->IPython) (0.6.0)\n",
      "Requirement already satisfied: ipython-genutils in /Users/sahil/anaconda3/lib/python3.7/site-packages (from traitlets>=4.2->IPython) (0.2.0)\n",
      "\u001b[33mWARNING: You are using pip version 19.3.1; however, version 20.0.2 is available.\n",
      "You should consider upgrading via the 'pip install --upgrade pip' command.\u001b[0m\n",
      "\u001b[31mERROR: Could not find a version that satisfies the requirement math (from versions: none)\u001b[0m\n",
      "\u001b[31mERROR: No matching distribution found for math\u001b[0m\n",
      "\u001b[33mWARNING: You are using pip version 19.3.1; however, version 20.0.2 is available.\n",
      "You should consider upgrading via the 'pip install --upgrade pip' command.\u001b[0m\n",
      "Requirement already satisfied: pprint in /Users/sahil/anaconda3/lib/python3.7/site-packages (0.1)\n",
      "\u001b[33mWARNING: You are using pip version 19.3.1; however, version 20.0.2 is available.\n",
      "You should consider upgrading via the 'pip install --upgrade pip' command.\u001b[0m\n"
     ]
    }
   ],
   "source": [
    "!pip install seaborn\n",
    "!pip install nltk\n",
    "!pip install pandas\n",
    "!pip install numpy\n",
    "!pip install matplotlib\n",
    "!pip install IPython\n",
    "!pip install math\n",
    "!pip install pprint\n",
    "from IPython import display\n",
    "import math\n",
    "from pprint import pprint\n",
    "import pandas as pd\n",
    "import numpy as np\n",
    "import nltk\n",
    "import matplotlib.pyplot as plt\n",
    "import seaborn as sns\n",
    "sns.set(style='darkgrid', context='talk', palette='Dark2')\n",
    "import csv\n",
    "import os"
   ]
  },
  {
   "cell_type": "code",
   "execution_count": 9,
   "metadata": {},
   "outputs": [],
   "source": [
    "df = pd.read_csv(\"news.csv\")"
   ]
  },
  {
   "cell_type": "code",
   "execution_count": 10,
   "metadata": {},
   "outputs": [
    {
     "data": {
      "text/html": [
       "<div>\n",
       "<style scoped>\n",
       "    .dataframe tbody tr th:only-of-type {\n",
       "        vertical-align: middle;\n",
       "    }\n",
       "\n",
       "    .dataframe tbody tr th {\n",
       "        vertical-align: top;\n",
       "    }\n",
       "\n",
       "    .dataframe thead th {\n",
       "        text-align: right;\n",
       "    }\n",
       "</style>\n",
       "<table border=\"1\" class=\"dataframe\">\n",
       "  <thead>\n",
       "    <tr style=\"text-align: right;\">\n",
       "      <th></th>\n",
       "      <th>Title</th>\n",
       "      <th>URL</th>\n",
       "    </tr>\n",
       "  </thead>\n",
       "  <tbody>\n",
       "    <tr>\n",
       "      <th>0</th>\n",
       "      <td>Trudeau announces $62.5 million for seafood, f...</td>\n",
       "      <td>https://news.google.com/articles/CAIiEOlxnklWR...</td>\n",
       "    </tr>\n",
       "    <tr>\n",
       "      <th>1</th>\n",
       "      <td>Coronavirus: Disinfectant riff the latest of T...</td>\n",
       "      <td>https://news.google.com/articles/CAIiEJ1tWZV1u...</td>\n",
       "    </tr>\n",
       "    <tr>\n",
       "      <th>2</th>\n",
       "      <td>Coronavirus: What's happening in Canada and ar...</td>\n",
       "      <td>https://news.google.com/articles/CBMiPGh0dHBzO...</td>\n",
       "    </tr>\n",
       "    <tr>\n",
       "      <th>3</th>\n",
       "      <td>Is it safe to go running during the coronaviru...</td>\n",
       "      <td>https://news.google.com/articles/CAIiEBFqvVALO...</td>\n",
       "    </tr>\n",
       "    <tr>\n",
       "      <th>4</th>\n",
       "      <td>Coronavirus: Brazil emerging as world hot spot...</td>\n",
       "      <td>https://news.google.com/articles/CAIiEHqq55m3D...</td>\n",
       "    </tr>\n",
       "    <tr>\n",
       "      <th>...</th>\n",
       "      <td>...</td>\n",
       "      <td>...</td>\n",
       "    </tr>\n",
       "    <tr>\n",
       "      <th>95</th>\n",
       "      <td>Disinfectant Against Coronavirus: How to Make ...</td>\n",
       "      <td>https://news.google.com/articles/CAIiEKc90rfvP...</td>\n",
       "    </tr>\n",
       "    <tr>\n",
       "      <th>96</th>\n",
       "      <td>Is the curve flattening? Expert says coronavir...</td>\n",
       "      <td>https://news.google.com/articles/CAIiEP5JBHOLe...</td>\n",
       "    </tr>\n",
       "    <tr>\n",
       "      <th>97</th>\n",
       "      <td>'We knew that the foreign workers would be a s...</td>\n",
       "      <td>https://news.google.com/articles/CAIiEGeTamD-M...</td>\n",
       "    </tr>\n",
       "    <tr>\n",
       "      <th>98</th>\n",
       "      <td>Virginia sees 772 new coronavirus cases, now r...</td>\n",
       "      <td>https://news.google.com/articles/CAIiECzCJ22j9...</td>\n",
       "    </tr>\n",
       "    <tr>\n",
       "      <th>99</th>\n",
       "      <td>Canada could see 22,000 coronavirus deaths eve...</td>\n",
       "      <td>https://news.google.com/articles/CAIiEPIubUrOO...</td>\n",
       "    </tr>\n",
       "  </tbody>\n",
       "</table>\n",
       "<p>100 rows × 2 columns</p>\n",
       "</div>"
      ],
      "text/plain": [
       "                                                Title  \\\n",
       "0   Trudeau announces $62.5 million for seafood, f...   \n",
       "1   Coronavirus: Disinfectant riff the latest of T...   \n",
       "2   Coronavirus: What's happening in Canada and ar...   \n",
       "3   Is it safe to go running during the coronaviru...   \n",
       "4   Coronavirus: Brazil emerging as world hot spot...   \n",
       "..                                                ...   \n",
       "95  Disinfectant Against Coronavirus: How to Make ...   \n",
       "96  Is the curve flattening? Expert says coronavir...   \n",
       "97  'We knew that the foreign workers would be a s...   \n",
       "98  Virginia sees 772 new coronavirus cases, now r...   \n",
       "99  Canada could see 22,000 coronavirus deaths eve...   \n",
       "\n",
       "                                                  URL  \n",
       "0   https://news.google.com/articles/CAIiEOlxnklWR...  \n",
       "1   https://news.google.com/articles/CAIiEJ1tWZV1u...  \n",
       "2   https://news.google.com/articles/CBMiPGh0dHBzO...  \n",
       "3   https://news.google.com/articles/CAIiEBFqvVALO...  \n",
       "4   https://news.google.com/articles/CAIiEHqq55m3D...  \n",
       "..                                                ...  \n",
       "95  https://news.google.com/articles/CAIiEKc90rfvP...  \n",
       "96  https://news.google.com/articles/CAIiEP5JBHOLe...  \n",
       "97  https://news.google.com/articles/CAIiEGeTamD-M...  \n",
       "98  https://news.google.com/articles/CAIiECzCJ22j9...  \n",
       "99  https://news.google.com/articles/CAIiEPIubUrOO...  \n",
       "\n",
       "[100 rows x 2 columns]"
      ]
     },
     "execution_count": 10,
     "metadata": {},
     "output_type": "execute_result"
    }
   ],
   "source": [
    "df"
   ]
  },
  {
   "cell_type": "code",
   "execution_count": 11,
   "metadata": {},
   "outputs": [],
   "source": [
    "titles =  df['Title'].tolist()"
   ]
  },
  {
   "cell_type": "code",
   "execution_count": 12,
   "metadata": {},
   "outputs": [
    {
     "name": "stdout",
     "output_type": "stream",
     "text": [
      "<class 'list'>\n"
     ]
    },
    {
     "data": {
      "text/plain": [
       "['Trudeau announces $62.5 million for seafood, fish processors during coronavirus pandemic',\n",
       " 'Coronavirus: Disinfectant riff the latest of Trump’s many clashes with science',\n",
       " \"Coronavirus: What's happening in Canada and around the world on Saturday\",\n",
       " 'Is it safe to go running during the coronavirus pandemic?',\n",
       " 'Coronavirus: Brazil emerging as world hot spot for virus',\n",
       " 'Trump’s role in coronavirus briefings may be reduced after disinfectant remarks: sources',\n",
       " 'The fight to save patients from the coronavirus at Surrey Memorial Hospital',\n",
       " 'Coronavirus: Canada adds over 1,700 new cases, 161 new deaths',\n",
       " 'Coronavirus: Asian-Americans turn to guns, GoPros to deter attacks',\n",
       " 'What you need to know about coronavirus on Saturday, April 25',\n",
       " 'Coronavirus: Plan to reopen Ontario economy will be revealed ‘early next week’',\n",
       " 'Coronavirus: 2 more confirmed cases in Interior Health region, total now 158',\n",
       " 'Conrad Black: A path out of the coronavirus lockdown',\n",
       " 'Emotional burden of coronavirus on British Columbians has been significant: poll',\n",
       " 'Ontario reports 640 new coronavirus cases, total reaches 13,519 with 763 deaths',\n",
       " 'Somali civilian shot dead by police amid coronavirus restrictions',\n",
       " \"Coronavirus: Belarus orphanage seeks help amid 'critical' outbreak\",\n",
       " 'Mandatory Face Masks And More: Canadian Airlines Introduce New Coronavirus Travel Safety Measures',\n",
       " 'Running is enjoying a boom because of the coronavirus pandemic',\n",
       " 'Coronavirus antibody testing a big deal? What to know about the promising serology tests',\n",
       " \"The United States' reported coronavirus deaths approach 52,000, over a quarter of the world's known tally\",\n",
       " \"Coronavirus: The 'good outcome' that never was\",\n",
       " 'The 5-month-old daughter of a New York firefighter dies from coronavirus',\n",
       " 'How the coronavirus pandemic has shaken the US military',\n",
       " \"'No Evidence' That Recovered COVID-19 Patients Are Immune, WHO Says\",\n",
       " \"'They are trying to steal everything.' US coronavirus response hit by foreign hackers\",\n",
       " 'Watch the entire CNN/Sesame Street coronavirus town hall',\n",
       " 'Coronavirus: Further 16 deaths confirmed in NI',\n",
       " 'After her husband died from coronavirus, she found an emotional goodbye note on his phone',\n",
       " \"Singapore's migrant workers are suffering the brunt of the country's coronavirus outbreak\",\n",
       " '10 leaders who mattered most on coronavirus response this week',\n",
       " 'Coronavirus, CARES And PPP Will Explode The Federal Deficit And Debt',\n",
       " 'Bleach and sunlight might kill the coronavirus on a park bench, but they can be harmful to the body',\n",
       " 'Coronavirus Has Infected A 5th Of New York City, Testing Suggests',\n",
       " '‘Worst is yet ahead of us’ in coronavirus outbreak, WHO warns',\n",
       " '‘COVID toes’ could be another symptom of coronavirus infection: experts',\n",
       " 'Martinsville-region COVID-19/coronavirus daily update from state, nation and world: April 25',\n",
       " 'Cleaning a floating petri dish: How is a cruise ship sanitized after a coronavirus outbreak?',\n",
       " 'Can coronavirus cases be deduced from sewage? An MIT start-up tried it in Delaware and the governor wasn’t imp',\n",
       " 'Citing a high risk of death, researchers cut chloroquine coronavirus study short over safety concerns',\n",
       " 'This 2-year-old boy was adopted over Zoom after coronavirus pandemic canceled court hearings',\n",
       " 'Coronavirus: Transport usage will change after lockdown',\n",
       " \"Nick Cordero's wife offers update as he battles coronavirus\",\n",
       " \"Coronavirus: Applause for key workers 'is not enough'\",\n",
       " \"Pelosi promises more coronavirus relief: 'There will be a bill and it will be expensive'\",\n",
       " \"U.S. Hospitals Hit By Financial 'Triple Whammy' During Coronavirus Pandemic\",\n",
       " \"'Science will come through': Doctor who pioneered HIV treatment discusses potential Covid-19 drugs\",\n",
       " 'Trump pulls punches and clings to his China trade deal as backlash against Beijing grows',\n",
       " 'N.J. Gov. Phil Murphy provides daily coronavirus update: How to watch live. (April 25, 2020)',\n",
       " '606 new coronavirus cases in Ontario, total reaches 11,184 cases and 584 deaths',\n",
       " \"Some states get a taste of normalcy but others take 'whatever steps necessary' to slow coronavirus spread\",\n",
       " \"Donald Trump said coronavirus 'should have never happened.' What?\",\n",
       " 'Leaked White House emails reveal behind-the-scenes battle over chloroquine in coronavirus response',\n",
       " \"Bill Gates: 'I wish I could say that we're halfway through' coronavirus pandemic\",\n",
       " 'Walmart store in Colorado shuts down after coronavirus deaths',\n",
       " 'Coronavirus detected on particles of air pollution',\n",
       " \"As States Open Up, Health Experts Seek To Understand Coronavirus's Early Silent Spread\",\n",
       " 'Why The US Early Warning System For Spread Of Coronavirus Stumbled : Shots - Health News',\n",
       " 'The authoritarian threats of coronavirus',\n",
       " \"Ask Dr. Nandi: Trump suggests 'injection' of disinfectant to beat coronavirus and 'clean' the lungs\",\n",
       " 'Canada is flattening the coronavirus curve. That’s ‘good news,’ expert explains',\n",
       " 'Global stocks falter as investors lose faith in potential coronavirus treatment',\n",
       " '2 Californians died of coronavirus weeks before previously known 1st US death',\n",
       " 'Michael Avenatti released from jail due to coronavirus fears',\n",
       " \"Do homemade face masks keep you from acquiring coronavirus? Here's what we know\",\n",
       " 'Answering Your Coronavirus Questions: Vaccines, Mythbusting And Dating',\n",
       " 'Coronavirus refunds: why fans are raging over ticket policies',\n",
       " 'Coronavirus The latest coronavirus updates: Saturday, April 25, 2020 9:08 AM, Apr 25, 2020',\n",
       " 'NASA team developed a ventilator tailored for coronavirus patients in 37 days',\n",
       " 'Coronavirus in Georgia | Early Saturday there were 22491 confirmed cases; nearly 900 deaths',\n",
       " 'Open science takes on the coronavirus pandemic Data sharing, open-source designs for medical equipment, and',\n",
       " 'A family on the frontlines',\n",
       " 'April 24 Coronavirus Data Posted – Total positives: 3699',\n",
       " 'As coronavirus crushes travel industry, Expedia maps out private equity survival strategy',\n",
       " \"Coronavirus spread 'under the radar' in US major cities since January, researchers say\",\n",
       " 'Coronavirus: Stories of unemployment, fear and hope in the US',\n",
       " \"Japanese mayor says men should grocery shop during pandemic as women 'take a longer time'\",\n",
       " \"Russia tries to stay neutral as US-China tensions rise over coronavirus' origin\",\n",
       " 'California launches meal delivery program for seniors, US coronavirus death toll tops 50,000',\n",
       " 'Virus Researchers Cast Doubt On Theory Of Coronavirus Lab Accident',\n",
       " 'Coronavirus study predicts no deaths after May 19, but experts are sceptical',\n",
       " 'Muslims Around The World Face A Different Kind Of Ramadan',\n",
       " 'Rudy Giuliani may have said the dumbest thing yet uttered about the coronavirus',\n",
       " \"He signed up for a coronavirus vaccine trial using a method that's never been used in humans. Here's why.\",\n",
       " \"Coronavirus pandemic will cause global famines of 'biblical proportions,' UN warns\",\n",
       " 'Some Southern states are reopening businesses; US death toll passes 42,000',\n",
       " 'Watch live: California Gov. Newsom gives coronavirus update | TheHill',\n",
       " 'Second US Navy warship hit by major coronavirus outbreak',\n",
       " 'Coronavirus: 241 new deaths, 217 hospital admissions in Belgium',\n",
       " 'Boeing pushes back target date for fixing 737 Max as coronavirus hinders progress',\n",
       " \"Inside Mark Hamilton's journey from MLB to MD fighting coronavirus\",\n",
       " 'Florida COVID-19 coronavirus cases, deaths, hospitalizations',\n",
       " 'The schoolboy brothers making coronavirus visors for care workers',\n",
       " 'Opinion | Who Has Enough Cash to Get Through the Coronavirus Crisis?',\n",
       " \"What you need to know about how the coronavirus spreads — it's not just about staying 6 feet apart\",\n",
       " 'Disinfectant Against Coronavirus: How to Make and Use',\n",
       " 'Is the curve flattening? Expert says coronavirus death numbers will tell us',\n",
       " \"'We knew that the foreign workers would be a stress point:' Singapore diplomat on battling coronavirus\",\n",
       " 'Virginia sees 772 new coronavirus cases, now reporting 12,366 statewide',\n",
       " 'Canada could see 22,000 coronavirus deaths even with physical distancing, officials say']"
      ]
     },
     "execution_count": 12,
     "metadata": {},
     "output_type": "execute_result"
    }
   ],
   "source": [
    "print(type(titles))\n",
    "titles"
   ]
  },
  {
   "cell_type": "markdown",
   "metadata": {},
   "source": [
    "#### NLTK’s built-in Vader Sentiment Analyzer will simply rank a piece of text as positive, negative or neutral using a lexicon of positive and negative words."
   ]
  },
  {
   "cell_type": "code",
   "execution_count": 13,
   "metadata": {},
   "outputs": [
    {
     "name": "stdout",
     "output_type": "stream",
     "text": [
      "[{'compound': 0.0,\n",
      "  'headline': 'Trudeau announces $62.5 million for seafood, fish '\n",
      "              'processors during coronavirus pandemic',\n",
      "  'neg': 0.0,\n",
      "  'neu': 1.0,\n",
      "  'pos': 0.0},\n",
      " {'compound': 0.0,\n",
      "  'headline': 'Coronavirus: Disinfectant riff the latest of Trump’s '\n",
      "              'many clashes with science',\n",
      "  'neg': 0.0,\n",
      "  'neu': 1.0,\n",
      "  'pos': 0.0}]\n"
     ]
    },
    {
     "name": "stderr",
     "output_type": "stream",
     "text": [
      "[nltk_data] Downloading package vader_lexicon to\n",
      "[nltk_data]     /Users/sahil/nltk_data...\n",
      "[nltk_data]   Package vader_lexicon is already up-to-date!\n"
     ]
    }
   ],
   "source": [
    "from nltk.sentiment.vader import SentimentIntensityAnalyzer as SIA\n",
    "nltk.downloader.download('vader_lexicon')\n",
    "sia = SIA()\n",
    "results = []\n",
    "\n",
    "for headline in titles:\n",
    "    pol_score = sia.polarity_scores(headline)\n",
    "#     print(pol_score)\n",
    "    pol_score['headline'] = headline\n",
    "    results.append(pol_score)\n",
    "pprint(results[:2], width=70)"
   ]
  },
  {
   "cell_type": "markdown",
   "metadata": {},
   "source": [
    "# Generating labels for each headline."
   ]
  },
  {
   "cell_type": "code",
   "execution_count": 14,
   "metadata": {},
   "outputs": [],
   "source": [
    "sentiments = pd.DataFrame.from_records(results)"
   ]
  },
  {
   "cell_type": "code",
   "execution_count": 15,
   "metadata": {},
   "outputs": [
    {
     "data": {
      "text/html": [
       "<div>\n",
       "<style scoped>\n",
       "    .dataframe tbody tr th:only-of-type {\n",
       "        vertical-align: middle;\n",
       "    }\n",
       "\n",
       "    .dataframe tbody tr th {\n",
       "        vertical-align: top;\n",
       "    }\n",
       "\n",
       "    .dataframe thead th {\n",
       "        text-align: right;\n",
       "    }\n",
       "</style>\n",
       "<table border=\"1\" class=\"dataframe\">\n",
       "  <thead>\n",
       "    <tr style=\"text-align: right;\">\n",
       "      <th></th>\n",
       "      <th>neg</th>\n",
       "      <th>neu</th>\n",
       "      <th>pos</th>\n",
       "      <th>compound</th>\n",
       "      <th>headline</th>\n",
       "    </tr>\n",
       "  </thead>\n",
       "  <tbody>\n",
       "    <tr>\n",
       "      <th>0</th>\n",
       "      <td>0.0</td>\n",
       "      <td>1.000</td>\n",
       "      <td>0.000</td>\n",
       "      <td>0.0000</td>\n",
       "      <td>Trudeau announces $62.5 million for seafood, f...</td>\n",
       "    </tr>\n",
       "    <tr>\n",
       "      <th>1</th>\n",
       "      <td>0.0</td>\n",
       "      <td>1.000</td>\n",
       "      <td>0.000</td>\n",
       "      <td>0.0000</td>\n",
       "      <td>Coronavirus: Disinfectant riff the latest of T...</td>\n",
       "    </tr>\n",
       "    <tr>\n",
       "      <th>2</th>\n",
       "      <td>0.0</td>\n",
       "      <td>1.000</td>\n",
       "      <td>0.000</td>\n",
       "      <td>0.0000</td>\n",
       "      <td>Coronavirus: What's happening in Canada and ar...</td>\n",
       "    </tr>\n",
       "    <tr>\n",
       "      <th>3</th>\n",
       "      <td>0.0</td>\n",
       "      <td>0.756</td>\n",
       "      <td>0.244</td>\n",
       "      <td>0.4404</td>\n",
       "      <td>Is it safe to go running during the coronaviru...</td>\n",
       "    </tr>\n",
       "    <tr>\n",
       "      <th>4</th>\n",
       "      <td>0.0</td>\n",
       "      <td>1.000</td>\n",
       "      <td>0.000</td>\n",
       "      <td>0.0000</td>\n",
       "      <td>Coronavirus: Brazil emerging as world hot spot...</td>\n",
       "    </tr>\n",
       "  </tbody>\n",
       "</table>\n",
       "</div>"
      ],
      "text/plain": [
       "   neg    neu    pos  compound  \\\n",
       "0  0.0  1.000  0.000    0.0000   \n",
       "1  0.0  1.000  0.000    0.0000   \n",
       "2  0.0  1.000  0.000    0.0000   \n",
       "3  0.0  0.756  0.244    0.4404   \n",
       "4  0.0  1.000  0.000    0.0000   \n",
       "\n",
       "                                            headline  \n",
       "0  Trudeau announces $62.5 million for seafood, f...  \n",
       "1  Coronavirus: Disinfectant riff the latest of T...  \n",
       "2  Coronavirus: What's happening in Canada and ar...  \n",
       "3  Is it safe to go running during the coronaviru...  \n",
       "4  Coronavirus: Brazil emerging as world hot spot...  "
      ]
     },
     "execution_count": 15,
     "metadata": {},
     "output_type": "execute_result"
    }
   ],
   "source": [
    "sentiments.head()"
   ]
  },
  {
   "cell_type": "code",
   "execution_count": 16,
   "metadata": {},
   "outputs": [
    {
     "data": {
      "text/html": [
       "<div>\n",
       "<style scoped>\n",
       "    .dataframe tbody tr th:only-of-type {\n",
       "        vertical-align: middle;\n",
       "    }\n",
       "\n",
       "    .dataframe tbody tr th {\n",
       "        vertical-align: top;\n",
       "    }\n",
       "\n",
       "    .dataframe thead th {\n",
       "        text-align: right;\n",
       "    }\n",
       "</style>\n",
       "<table border=\"1\" class=\"dataframe\">\n",
       "  <thead>\n",
       "    <tr style=\"text-align: right;\">\n",
       "      <th></th>\n",
       "      <th>neg</th>\n",
       "      <th>neu</th>\n",
       "      <th>pos</th>\n",
       "      <th>compound</th>\n",
       "      <th>headline</th>\n",
       "      <th>label</th>\n",
       "    </tr>\n",
       "  </thead>\n",
       "  <tbody>\n",
       "    <tr>\n",
       "      <th>0</th>\n",
       "      <td>0.0</td>\n",
       "      <td>1.000</td>\n",
       "      <td>0.000</td>\n",
       "      <td>0.0000</td>\n",
       "      <td>Trudeau announces $62.5 million for seafood, f...</td>\n",
       "      <td>0</td>\n",
       "    </tr>\n",
       "    <tr>\n",
       "      <th>1</th>\n",
       "      <td>0.0</td>\n",
       "      <td>1.000</td>\n",
       "      <td>0.000</td>\n",
       "      <td>0.0000</td>\n",
       "      <td>Coronavirus: Disinfectant riff the latest of T...</td>\n",
       "      <td>0</td>\n",
       "    </tr>\n",
       "    <tr>\n",
       "      <th>2</th>\n",
       "      <td>0.0</td>\n",
       "      <td>1.000</td>\n",
       "      <td>0.000</td>\n",
       "      <td>0.0000</td>\n",
       "      <td>Coronavirus: What's happening in Canada and ar...</td>\n",
       "      <td>0</td>\n",
       "    </tr>\n",
       "    <tr>\n",
       "      <th>3</th>\n",
       "      <td>0.0</td>\n",
       "      <td>0.756</td>\n",
       "      <td>0.244</td>\n",
       "      <td>0.4404</td>\n",
       "      <td>Is it safe to go running during the coronaviru...</td>\n",
       "      <td>1</td>\n",
       "    </tr>\n",
       "    <tr>\n",
       "      <th>4</th>\n",
       "      <td>0.0</td>\n",
       "      <td>1.000</td>\n",
       "      <td>0.000</td>\n",
       "      <td>0.0000</td>\n",
       "      <td>Coronavirus: Brazil emerging as world hot spot...</td>\n",
       "      <td>0</td>\n",
       "    </tr>\n",
       "  </tbody>\n",
       "</table>\n",
       "</div>"
      ],
      "text/plain": [
       "   neg    neu    pos  compound  \\\n",
       "0  0.0  1.000  0.000    0.0000   \n",
       "1  0.0  1.000  0.000    0.0000   \n",
       "2  0.0  1.000  0.000    0.0000   \n",
       "3  0.0  0.756  0.244    0.4404   \n",
       "4  0.0  1.000  0.000    0.0000   \n",
       "\n",
       "                                            headline  label  \n",
       "0  Trudeau announces $62.5 million for seafood, f...      0  \n",
       "1  Coronavirus: Disinfectant riff the latest of T...      0  \n",
       "2  Coronavirus: What's happening in Canada and ar...      0  \n",
       "3  Is it safe to go running during the coronaviru...      1  \n",
       "4  Coronavirus: Brazil emerging as world hot spot...      0  "
      ]
     },
     "execution_count": 16,
     "metadata": {},
     "output_type": "execute_result"
    }
   ],
   "source": [
    "sentiments['label'] = 0\n",
    "sentiments.loc[sentiments['compound'] > 0.2, 'label'] = 1\n",
    "sentiments.loc[sentiments['compound'] < -0.2, 'label'] = -1\n",
    "sentiments.head()"
   ]
  },
  {
   "cell_type": "code",
   "execution_count": 17,
   "metadata": {},
   "outputs": [],
   "source": [
    "df2 = sentiments[['headline', 'label']]\n",
    "df2.to_csv('new_headlines_labels.csv', mode='a', encoding='utf-8', index=False)"
   ]
  },
  {
   "cell_type": "code",
   "execution_count": 18,
   "metadata": {},
   "outputs": [
    {
     "data": {
      "text/html": [
       "<div>\n",
       "<style scoped>\n",
       "    .dataframe tbody tr th:only-of-type {\n",
       "        vertical-align: middle;\n",
       "    }\n",
       "\n",
       "    .dataframe tbody tr th {\n",
       "        vertical-align: top;\n",
       "    }\n",
       "\n",
       "    .dataframe thead th {\n",
       "        text-align: right;\n",
       "    }\n",
       "</style>\n",
       "<table border=\"1\" class=\"dataframe\">\n",
       "  <thead>\n",
       "    <tr style=\"text-align: right;\">\n",
       "      <th></th>\n",
       "      <th>headline</th>\n",
       "      <th>label</th>\n",
       "    </tr>\n",
       "  </thead>\n",
       "  <tbody>\n",
       "    <tr>\n",
       "      <th>0</th>\n",
       "      <td>Trudeau announces $62.5 million for seafood, f...</td>\n",
       "      <td>0</td>\n",
       "    </tr>\n",
       "    <tr>\n",
       "      <th>1</th>\n",
       "      <td>Coronavirus: Disinfectant riff the latest of T...</td>\n",
       "      <td>0</td>\n",
       "    </tr>\n",
       "    <tr>\n",
       "      <th>2</th>\n",
       "      <td>Coronavirus: What's happening in Canada and ar...</td>\n",
       "      <td>0</td>\n",
       "    </tr>\n",
       "    <tr>\n",
       "      <th>3</th>\n",
       "      <td>Is it safe to go running during the coronaviru...</td>\n",
       "      <td>1</td>\n",
       "    </tr>\n",
       "    <tr>\n",
       "      <th>4</th>\n",
       "      <td>Coronavirus: Brazil emerging as world hot spot...</td>\n",
       "      <td>0</td>\n",
       "    </tr>\n",
       "    <tr>\n",
       "      <th>...</th>\n",
       "      <td>...</td>\n",
       "      <td>...</td>\n",
       "    </tr>\n",
       "    <tr>\n",
       "      <th>95</th>\n",
       "      <td>Disinfectant Against Coronavirus: How to Make ...</td>\n",
       "      <td>0</td>\n",
       "    </tr>\n",
       "    <tr>\n",
       "      <th>96</th>\n",
       "      <td>Is the curve flattening? Expert says coronavir...</td>\n",
       "      <td>-1</td>\n",
       "    </tr>\n",
       "    <tr>\n",
       "      <th>97</th>\n",
       "      <td>'We knew that the foreign workers would be a s...</td>\n",
       "      <td>-1</td>\n",
       "    </tr>\n",
       "    <tr>\n",
       "      <th>98</th>\n",
       "      <td>Virginia sees 772 new coronavirus cases, now r...</td>\n",
       "      <td>0</td>\n",
       "    </tr>\n",
       "    <tr>\n",
       "      <th>99</th>\n",
       "      <td>Canada could see 22,000 coronavirus deaths eve...</td>\n",
       "      <td>0</td>\n",
       "    </tr>\n",
       "  </tbody>\n",
       "</table>\n",
       "<p>100 rows × 2 columns</p>\n",
       "</div>"
      ],
      "text/plain": [
       "                                             headline  label\n",
       "0   Trudeau announces $62.5 million for seafood, f...      0\n",
       "1   Coronavirus: Disinfectant riff the latest of T...      0\n",
       "2   Coronavirus: What's happening in Canada and ar...      0\n",
       "3   Is it safe to go running during the coronaviru...      1\n",
       "4   Coronavirus: Brazil emerging as world hot spot...      0\n",
       "..                                                ...    ...\n",
       "95  Disinfectant Against Coronavirus: How to Make ...      0\n",
       "96  Is the curve flattening? Expert says coronavir...     -1\n",
       "97  'We knew that the foreign workers would be a s...     -1\n",
       "98  Virginia sees 772 new coronavirus cases, now r...      0\n",
       "99  Canada could see 22,000 coronavirus deaths eve...      0\n",
       "\n",
       "[100 rows x 2 columns]"
      ]
     },
     "execution_count": 18,
     "metadata": {},
     "output_type": "execute_result"
    }
   ],
   "source": [
    "df2"
   ]
  },
  {
   "cell_type": "code",
   "execution_count": 19,
   "metadata": {},
   "outputs": [
    {
     "name": "stdout",
     "output_type": "stream",
     "text": [
      "Positive headlines:\n",
      "\n",
      "['Is it safe to go running during the coronavirus pandemic?',\n",
      " \"Coronavirus: Belarus orphanage seeks help amid 'critical' outbreak\",\n",
      " 'Mandatory Face Masks And More: Canadian Airlines Introduce New Coronavirus Travel Safety Measures',\n",
      " 'Running is enjoying a boom because of the coronavirus pandemic',\n",
      " 'Coronavirus antibody testing a big deal? What to know about the promising serology tests']\n",
      "\n",
      "Negative headlines:\n",
      "\n",
      "['Coronavirus: Asian-Americans turn to guns, GoPros to deter attacks',\n",
      " 'Somali civilian shot dead by police amid coronavirus restrictions',\n",
      " \"'They are trying to steal everything.' US coronavirus response hit by foreign hackers\",\n",
      " 'After her husband died from coronavirus, she found an emotional goodbye note on his phone',\n",
      " \"Singapore's migrant workers are suffering the brunt of the country's coronavirus outbreak\"]\n"
     ]
    }
   ],
   "source": [
    "print(\"Positive headlines:\\n\")\n",
    "pprint(list(df2[df2['label'] == 1].headline)[:5], width=200)\n",
    "\n",
    "print(\"\\nNegative headlines:\\n\")\n",
    "pprint(list(df2[df2['label'] == -1].headline)[:5], width=200)"
   ]
  },
  {
   "cell_type": "code",
   "execution_count": 20,
   "metadata": {},
   "outputs": [
    {
     "name": "stdout",
     "output_type": "stream",
     "text": [
      " 0    60\n",
      "-1    26\n",
      " 1    14\n",
      "Name: label, dtype: int64\n",
      " 0    60.0\n",
      "-1    26.0\n",
      " 1    14.0\n",
      "Name: label, dtype: float64\n"
     ]
    }
   ],
   "source": [
    "print(df2.label.value_counts())\n",
    "\n",
    "print(df2.label.value_counts(normalize=True) * 100)"
   ]
  },
  {
   "cell_type": "code",
   "execution_count": 21,
   "metadata": {},
   "outputs": [
    {
     "data": {
      "image/png": "[encoded data removed]",
      "text/plain": [
       "<Figure size 576x576 with 1 Axes>"
      ]
     },
     "metadata": {},
     "output_type": "display_data"
    }
   ],
   "source": [
    "fig, ax = plt.subplots(figsize=(8, 8))\n",
    "\n",
    "counts = df2.label.value_counts(normalize=True) * 100\n",
    "\n",
    "sns.barplot(x=counts.index, y=counts, ax=ax)\n",
    "\n",
    "ax.set_xticklabels(['Negative', 'Neutral', 'Positive'])\n",
    "ax.set_ylabel(\"Percentage\")\n",
    "\n",
    "plt.show()"
   ]
  },
  {
   "cell_type": "markdown",
   "metadata": {},
   "source": [
    "## Tokenizers and Stopwords "
   ]
  },
  {
   "cell_type": "code",
   "execution_count": 22,
   "metadata": {},
   "outputs": [
    {
     "name": "stdout",
     "output_type": "stream",
     "text": [
      "['This', 'is', 'an', 'example', 'sentence', '!', 'However', ',', 'it', 'is', \"n't\", 'a', 'very', 'informative', 'one']\n"
     ]
    },
    {
     "name": "stderr",
     "output_type": "stream",
     "text": [
      "[nltk_data] Downloading package punkt to /Users/sahil/nltk_data...\n",
      "[nltk_data]   Package punkt is already up-to-date!\n"
     ]
    }
   ],
   "source": [
    "from nltk.tokenize import word_tokenize, RegexpTokenizer\n",
    "nltk.downloader.download('punkt')\n",
    "\n",
    "example = \"This is an example sentence! However, it isn't a very informative one\"\n",
    "\n",
    "print(word_tokenize(example, language='english'))\n"
   ]
  },
  {
   "cell_type": "code",
   "execution_count": 23,
   "metadata": {},
   "outputs": [
    {
     "data": {
      "text/plain": [
       "['This',\n",
       " 'is',\n",
       " 'an',\n",
       " 'example',\n",
       " 'sentence',\n",
       " 'However',\n",
       " 'it',\n",
       " 'isn',\n",
       " 't',\n",
       " 'a',\n",
       " 'very',\n",
       " 'informative',\n",
       " 'one']"
      ]
     },
     "execution_count": 23,
     "metadata": {},
     "output_type": "execute_result"
    }
   ],
   "source": [
    "tokenizer = RegexpTokenizer(r'\\w+')\n",
    "tokenizer.tokenize(example)"
   ]
  },
  {
   "cell_type": "code",
   "execution_count": 24,
   "metadata": {},
   "outputs": [
    {
     "name": "stdout",
     "output_type": "stream",
     "text": [
      "['i', 'me', 'my', 'myself', 'we', 'our', 'ours', 'ourselves', 'you', \"you're\", \"you've\", \"you'll\", \"you'd\", 'your', 'yours', 'yourself', 'yourselves', 'he', 'him', 'his']\n"
     ]
    },
    {
     "name": "stderr",
     "output_type": "stream",
     "text": [
      "[nltk_data] Downloading package stopwords to /Users/sahil/nltk_data...\n",
      "[nltk_data]   Package stopwords is already up-to-date!\n"
     ]
    }
   ],
   "source": [
    "from nltk.corpus import stopwords\n",
    "nltk.downloader.download('stopwords')\n",
    "stop_words = stopwords.words('english')\n",
    "print(stop_words[:20])"
   ]
  },
  {
   "cell_type": "markdown",
   "metadata": {},
   "source": [
    "### Word Distributions "
   ]
  },
  {
   "cell_type": "code",
   "execution_count": 25,
   "metadata": {},
   "outputs": [],
   "source": [
    "def process_text(headlines):\n",
    "    tokens = []\n",
    "    for line in headlines:\n",
    "        toks = tokenizer.tokenize(line)\n",
    "        toks = [t.lower() for t in toks if t.lower() not in stop_words]\n",
    "        tokens.extend(toks)\n",
    "    \n",
    "    return tokens\n"
   ]
  },
  {
   "cell_type": "code",
   "execution_count": 26,
   "metadata": {},
   "outputs": [],
   "source": [
    "# tokens = process_text(titles)"
   ]
  },
  {
   "cell_type": "code",
   "execution_count": 27,
   "metadata": {},
   "outputs": [
    {
     "data": {
      "text/plain": [
       "[('coronavirus', 14),\n",
       " ('pandemic', 4),\n",
       " ('running', 2),\n",
       " ('workers', 2),\n",
       " ('bill', 2),\n",
       " ('open', 2),\n",
       " ('data', 2),\n",
       " ('safe', 1),\n",
       " ('go', 1),\n",
       " ('belarus', 1),\n",
       " ('orphanage', 1),\n",
       " ('seeks', 1),\n",
       " ('help', 1),\n",
       " ('amid', 1),\n",
       " ('critical', 1),\n",
       " ('outbreak', 1),\n",
       " ('mandatory', 1),\n",
       " ('face', 1),\n",
       " ('masks', 1),\n",
       " ('canadian', 1)]"
      ]
     },
     "execution_count": 27,
     "metadata": {},
     "output_type": "execute_result"
    }
   ],
   "source": [
    "pos_lines = list(df2[df2.label == 1].headline)\n",
    "\n",
    "pos_tokens = process_text(pos_lines)\n",
    "pos_freq = nltk.FreqDist(pos_tokens)\n",
    "\n",
    "pos_freq.most_common(20)"
   ]
  },
  {
   "cell_type": "code",
   "execution_count": 28,
   "metadata": {},
   "outputs": [
    {
     "data": {
      "image/png": "[encoded data removed]",
      "text/plain": [
       "<Figure size 720x360 with 1 Axes>"
      ]
     },
     "metadata": {},
     "output_type": "display_data"
    }
   ],
   "source": [
    "y_val = [x[1] for x in pos_freq.most_common()]\n",
    "\n",
    "fig = plt.figure(figsize=(10,5))\n",
    "plt.plot(y_val)\n",
    "\n",
    "plt.xlabel(\"Words\")\n",
    "plt.ylabel(\"Frequency\")\n",
    "plt.title(\"Word Frequency Distribution (Positive)\")\n",
    "plt.show()"
   ]
  },
  {
   "cell_type": "code",
   "execution_count": 29,
   "metadata": {},
   "outputs": [
    {
     "data": {
      "image/png": "[encoded data removed]",
      "text/plain": [
       "<Figure size 720x360 with 1 Axes>"
      ]
     },
     "metadata": {},
     "output_type": "display_data"
    }
   ],
   "source": [
    "y_final = []\n",
    "for i, k, z, t in zip(y_val[0::4], y_val[1::4], y_val[2::4], y_val[3::4]):\n",
    "    y_final.append(math.log(i + k + z + t))\n",
    "\n",
    "x_val = [math.log(i + 1) for i in range(len(y_final))]\n",
    "\n",
    "fig = plt.figure(figsize=(10,5))\n",
    "\n",
    "plt.xlabel(\"Words (Log)\")\n",
    "plt.ylabel(\"Frequency (Log)\")\n",
    "plt.title(\"Word Frequency Distribution (Positive)\")\n",
    "plt.plot(x_val, y_final)\n",
    "plt.show()"
   ]
  },
  {
   "cell_type": "code",
   "execution_count": 30,
   "metadata": {},
   "outputs": [
    {
     "data": {
      "text/plain": [
       "[('coronavirus', 25),\n",
       " ('us', 7),\n",
       " ('death', 4),\n",
       " ('response', 2),\n",
       " ('foreign', 2),\n",
       " ('died', 2),\n",
       " ('singapore', 2),\n",
       " ('workers', 2),\n",
       " ('researchers', 2),\n",
       " ('chloroquine', 2),\n",
       " ('study', 2),\n",
       " ('may', 2),\n",
       " ('asian', 1),\n",
       " ('americans', 1),\n",
       " ('turn', 1),\n",
       " ('guns', 1),\n",
       " ('gopros', 1),\n",
       " ('deter', 1),\n",
       " ('attacks', 1),\n",
       " ('somali', 1)]"
      ]
     },
     "execution_count": 30,
     "metadata": {},
     "output_type": "execute_result"
    }
   ],
   "source": [
    "neg_lines = list(df2[df2.label == -1].headline)\n",
    "\n",
    "neg_tokens = process_text(neg_lines)\n",
    "neg_freq = nltk.FreqDist(neg_tokens)\n",
    "\n",
    "neg_freq.most_common(20)"
   ]
  },
  {
   "cell_type": "code",
   "execution_count": 31,
   "metadata": {},
   "outputs": [
    {
     "data": {
      "image/png": "[encoded data removed]",
      "text/plain": [
       "<Figure size 720x360 with 1 Axes>"
      ]
     },
     "metadata": {},
     "output_type": "display_data"
    }
   ],
   "source": [
    "y_val = [x[1] for x in neg_freq.most_common()]\n",
    "\n",
    "fig = plt.figure(figsize=(10,5))\n",
    "plt.plot(y_val)\n",
    "\n",
    "plt.xlabel(\"Words\")\n",
    "plt.ylabel(\"Frequency\")\n",
    "plt.title(\"Word Frequency Distribution (Negative)\")\n",
    "plt.show()"
   ]
  },
  {
   "cell_type": "code",
   "execution_count": 32,
   "metadata": {},
   "outputs": [
    {
     "data": {
      "image/png": "[encoded data removed]",
      "text/plain": [
       "<Figure size 720x360 with 1 Axes>"
      ]
     },
     "metadata": {},
     "output_type": "display_data"
    }
   ],
   "source": [
    "y_final = []\n",
    "for i, k, z in zip(y_val[0::3], y_val[1::3], y_val[2::3]):\n",
    "    if i + k + z == 0:\n",
    "        break\n",
    "    y_final.append(math.log(i + k + z))\n",
    "\n",
    "x_val = [math.log(i+1) for i in range(len(y_final))]\n",
    "\n",
    "fig = plt.figure(figsize=(10,5))\n",
    "\n",
    "plt.xlabel(\"Words (Log)\")\n",
    "plt.ylabel(\"Frequency (Log)\")\n",
    "plt.title(\"Word Frequency Distribution (Negative)\")\n",
    "plt.plot(x_val, y_final)\n",
    "plt.show()"
   ]
  },
  {
   "cell_type": "markdown",
   "metadata": {},
   "source": [
    "#### FUTURE SCOPE: \n",
    "WE CAN USE CONTENT OF THE NEWS FOR MORE ACCURATE RESUTS."
   ]
  },
  {
   "cell_type": "code",
   "execution_count": null,
   "metadata": {},
   "outputs": [],
   "source": []
  }
 ],
 "metadata": {
  "kernelspec": {
   "display_name": "Python 3",
   "language": "python",
   "name": "python3"
  },
  "language_info": {
   "codemirror_mode": {
    "name": "ipython",
    "version": 3
   },
   "file_extension": ".py",
   "mimetype": "text/x-python",
   "name": "python",
   "nbconvert_exporter": "python",
   "pygments_lexer": "ipython3",
   "version": "3.6.9"
  }
 },
 "nbformat": 4,
 "nbformat_minor": 2
}
